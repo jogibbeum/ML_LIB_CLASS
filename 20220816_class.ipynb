{
 "cells": [
  {
   "cell_type": "markdown",
   "metadata": {},
   "source": [
    "* 지도학습\n",
    "\n",
    "   회귀\n",
    "   분류\n",
    "   \n",
    "* 비지도학습\n",
    "   * 군집화(clustering) - 비슷한 것을 찾아서 그룹을 만든다. (K-means, DBSCAN)\n",
    "   * 변환(transform) - PCA, t-SNE\n",
    "   * 연관(association) - 서로 관련 있는 특성(열)을 찾아주는 머신러닝 기법 \n",
    "   \n",
    "  지도학습 vs 비지도학습\n",
    "    - target 값이 있고, 없다.\n",
    "    \n",
    "- 평가지표\n",
    "  - 회귀의 평가지표\n",
    "     MAE\n",
    "     MSE\n",
    "     RMSE\n",
    "     RMLSE\n",
    "     MAPE\n",
    "     \n",
    "  - 분류의 평가지표\n",
    "     정확도\n",
    "     정밀도(Precision)\n",
    "     민감도(Sensitivity) or Recall or TPrate\n",
    "     특이도(Specificity)\n",
    "     Fprate\n",
    "     f1-score\n",
    "     log-loss\n",
    "     \n",
    "- 데이터 전처리\n",
    "   - 라벨 인코딩(Label Encoding) \n",
    "     - 컴퓨터가 알아 들을 수 있게 숫자로 변경해 준다.\n",
    "   - 원핫 인코딩(One-Hot Encoding)\n",
    "     - 0과 1을 갖는 벡터로 변경. 해당되는 부분을 1로 만든다.\n",
    "     - 10개의 범주로 만들어진다.   \n",
    "   - 구간 분할\n",
    "   - log 변환\n",
    " \n",
    "특성 자동 선택\n",
    "   - 통계값을 이용한 특성 선택\n",
    "   - 모델 중요하다고 생각하는 특성 선택\n",
    "   - 모델을 재귀적으로 돌려서 그중에 중요하다고 하는 변수 선택\n",
    " \n",
    "비지도학습 \n",
    "   - PCA \n",
    "      - 주성분 분석\n",
    "      - 10개의 변수가 있다면 차원 변환을 통해 10개의 주성분을 만든다.\n",
    "      - 각각의 주성분은 독립적인 관계를 갖는다.\n",
    "        - 독립적인 관계라는 것은 서로 전혀 관계가 없다.\n",
    "      - 주성분1을 만들고, 주성분2을 만들때, 직각인 관계."
   ]
  },
  {
   "cell_type": "code",
   "execution_count": 2,
   "metadata": {},
   "outputs": [],
   "source": [
    "from sklearn.model_selection import LeaveOneOut\n",
    "from sklearn.tree import DecisionTreeClassifier\n",
    "from sklearn.datasets import load_iris"
   ]
  },
  {
   "cell_type": "code",
   "execution_count": 3,
   "metadata": {},
   "outputs": [],
   "source": [
    "from sklearn.model_selection import cross_val_score"
   ]
  },
  {
   "cell_type": "code",
   "execution_count": 4,
   "metadata": {},
   "outputs": [
    {
     "name": "stdout",
     "output_type": "stream",
     "text": [
      "교차 검증 분할 횟수 :  150\n",
      "평균 정확도 : 0.95\n"
     ]
    }
   ],
   "source": [
    "loo = LeaveOneOut()\n",
    "iris = load_iris()\n",
    "tree = DecisionTreeClassifier()\n",
    "scores = cross_val_score(tree, iris.data, iris.target, cv=loo)\n",
    "\n",
    "print(\"교차 검증 분할 횟수 : \", len(scores))\n",
    "print(\"평균 정확도 : {:.2f}\".format(scores.mean()))"
   ]
  },
  {
   "cell_type": "code",
   "execution_count": 5,
   "metadata": {},
   "outputs": [],
   "source": [
    "from sklearn.model_selection import ShuffleSplit"
   ]
  },
  {
   "cell_type": "code",
   "execution_count": 6,
   "metadata": {},
   "outputs": [
    {
     "name": "stdout",
     "output_type": "stream",
     "text": [
      "교차 검증 점수 : \n",
      "[1.  1.  0.4 1.  1.  1.  1.  0.8 1.  0.8]\n",
      "평균 : 0.90\n"
     ]
    }
   ],
   "source": [
    "shuffle_split = ShuffleSplit(train_size=10, test_size=5,  n_splits=10)\n",
    "\n",
    "scores = cross_val_score(tree, iris.data, iris.target, \n",
    "                         cv=shuffle_split)\n",
    "\n",
    "print(\"교차 검증 점수 : \\n{}\".format(scores))\n",
    "avg = scores.mean()\n",
    "print(\"평균 : {:.2f}\".format( avg )  )"
   ]
  },
  {
   "cell_type": "code",
   "execution_count": null,
   "metadata": {},
   "outputs": [],
   "source": []
  }
 ],
 "metadata": {
  "kernelspec": {
   "display_name": "Python 3",
   "language": "python",
   "name": "python3"
  },
  "language_info": {
   "codemirror_mode": {
    "name": "ipython",
    "version": 3
   },
   "file_extension": ".py",
   "mimetype": "text/x-python",
   "name": "python",
   "nbconvert_exporter": "python",
   "pygments_lexer": "ipython3",
   "version": "3.8.5"
  }
 },
 "nbformat": 4,
 "nbformat_minor": 4
}

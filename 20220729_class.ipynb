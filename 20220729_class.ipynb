{
 "cells": [
  {
   "cell_type": "code",
   "execution_count": 1,
   "metadata": {},
   "outputs": [],
   "source": [
    "import seaborn as sns"
   ]
  },
  {
   "cell_type": "code",
   "execution_count": 2,
   "metadata": {},
   "outputs": [
    {
     "name": "stdout",
     "output_type": "stream",
     "text": [
      "<class 'pandas.core.frame.DataFrame'>\n",
      "RangeIndex: 244 entries, 0 to 243\n",
      "Data columns (total 7 columns):\n",
      " #   Column      Non-Null Count  Dtype   \n",
      "---  ------      --------------  -----   \n",
      " 0   total_bill  244 non-null    float64 \n",
      " 1   tip         244 non-null    float64 \n",
      " 2   sex         244 non-null    category\n",
      " 3   smoker      244 non-null    category\n",
      " 4   day         244 non-null    category\n",
      " 5   time        244 non-null    category\n",
      " 6   size        244 non-null    int64   \n",
      "dtypes: category(4), float64(2), int64(1)\n",
      "memory usage: 7.3 KB\n"
     ]
    }
   ],
   "source": [
    "tips = sns.load_dataset(\"tips\")\n",
    "tips.info()"
   ]
  },
  {
   "cell_type": "code",
   "execution_count": 3,
   "metadata": {},
   "outputs": [
    {
     "data": {
      "text/html": [
       "<div>\n",
       "<style scoped>\n",
       "    .dataframe tbody tr th:only-of-type {\n",
       "        vertical-align: middle;\n",
       "    }\n",
       "\n",
       "    .dataframe tbody tr th {\n",
       "        vertical-align: top;\n",
       "    }\n",
       "\n",
       "    .dataframe thead th {\n",
       "        text-align: right;\n",
       "    }\n",
       "</style>\n",
       "<table border=\"1\" class=\"dataframe\">\n",
       "  <thead>\n",
       "    <tr style=\"text-align: right;\">\n",
       "      <th></th>\n",
       "      <th>total_bill</th>\n",
       "      <th>tip</th>\n",
       "      <th>sex</th>\n",
       "      <th>smoker</th>\n",
       "      <th>day</th>\n",
       "      <th>time</th>\n",
       "      <th>size</th>\n",
       "    </tr>\n",
       "  </thead>\n",
       "  <tbody>\n",
       "    <tr>\n",
       "      <th>0</th>\n",
       "      <td>16.99</td>\n",
       "      <td>1.01</td>\n",
       "      <td>Female</td>\n",
       "      <td>No</td>\n",
       "      <td>Sun</td>\n",
       "      <td>Dinner</td>\n",
       "      <td>2</td>\n",
       "    </tr>\n",
       "    <tr>\n",
       "      <th>1</th>\n",
       "      <td>10.34</td>\n",
       "      <td>1.66</td>\n",
       "      <td>Male</td>\n",
       "      <td>No</td>\n",
       "      <td>Sun</td>\n",
       "      <td>Dinner</td>\n",
       "      <td>3</td>\n",
       "    </tr>\n",
       "    <tr>\n",
       "      <th>2</th>\n",
       "      <td>21.01</td>\n",
       "      <td>3.50</td>\n",
       "      <td>Male</td>\n",
       "      <td>No</td>\n",
       "      <td>Sun</td>\n",
       "      <td>Dinner</td>\n",
       "      <td>3</td>\n",
       "    </tr>\n",
       "    <tr>\n",
       "      <th>3</th>\n",
       "      <td>23.68</td>\n",
       "      <td>3.31</td>\n",
       "      <td>Male</td>\n",
       "      <td>No</td>\n",
       "      <td>Sun</td>\n",
       "      <td>Dinner</td>\n",
       "      <td>2</td>\n",
       "    </tr>\n",
       "    <tr>\n",
       "      <th>4</th>\n",
       "      <td>24.59</td>\n",
       "      <td>3.61</td>\n",
       "      <td>Female</td>\n",
       "      <td>No</td>\n",
       "      <td>Sun</td>\n",
       "      <td>Dinner</td>\n",
       "      <td>4</td>\n",
       "    </tr>\n",
       "  </tbody>\n",
       "</table>\n",
       "</div>"
      ],
      "text/plain": [
       "   total_bill   tip     sex smoker  day    time  size\n",
       "0       16.99  1.01  Female     No  Sun  Dinner     2\n",
       "1       10.34  1.66    Male     No  Sun  Dinner     3\n",
       "2       21.01  3.50    Male     No  Sun  Dinner     3\n",
       "3       23.68  3.31    Male     No  Sun  Dinner     2\n",
       "4       24.59  3.61  Female     No  Sun  Dinner     4"
      ]
     },
     "execution_count": 3,
     "metadata": {},
     "output_type": "execute_result"
    }
   ],
   "source": [
    "tips.head()"
   ]
  },
  {
   "cell_type": "code",
   "execution_count": 4,
   "metadata": {},
   "outputs": [
    {
     "data": {
      "text/html": [
       "<div>\n",
       "<style scoped>\n",
       "    .dataframe tbody tr th:only-of-type {\n",
       "        vertical-align: middle;\n",
       "    }\n",
       "\n",
       "    .dataframe tbody tr th {\n",
       "        vertical-align: top;\n",
       "    }\n",
       "\n",
       "    .dataframe thead th {\n",
       "        text-align: right;\n",
       "    }\n",
       "</style>\n",
       "<table border=\"1\" class=\"dataframe\">\n",
       "  <thead>\n",
       "    <tr style=\"text-align: right;\">\n",
       "      <th></th>\n",
       "      <th>total_bill</th>\n",
       "      <th>tip</th>\n",
       "      <th>sex</th>\n",
       "      <th>smoker</th>\n",
       "      <th>day</th>\n",
       "      <th>time</th>\n",
       "      <th>size</th>\n",
       "    </tr>\n",
       "  </thead>\n",
       "  <tbody>\n",
       "    <tr>\n",
       "      <th>239</th>\n",
       "      <td>29.03</td>\n",
       "      <td>5.92</td>\n",
       "      <td>Male</td>\n",
       "      <td>No</td>\n",
       "      <td>Sat</td>\n",
       "      <td>Dinner</td>\n",
       "      <td>3</td>\n",
       "    </tr>\n",
       "    <tr>\n",
       "      <th>240</th>\n",
       "      <td>27.18</td>\n",
       "      <td>2.00</td>\n",
       "      <td>Female</td>\n",
       "      <td>Yes</td>\n",
       "      <td>Sat</td>\n",
       "      <td>Dinner</td>\n",
       "      <td>2</td>\n",
       "    </tr>\n",
       "    <tr>\n",
       "      <th>241</th>\n",
       "      <td>22.67</td>\n",
       "      <td>2.00</td>\n",
       "      <td>Male</td>\n",
       "      <td>Yes</td>\n",
       "      <td>Sat</td>\n",
       "      <td>Dinner</td>\n",
       "      <td>2</td>\n",
       "    </tr>\n",
       "    <tr>\n",
       "      <th>242</th>\n",
       "      <td>17.82</td>\n",
       "      <td>1.75</td>\n",
       "      <td>Male</td>\n",
       "      <td>No</td>\n",
       "      <td>Sat</td>\n",
       "      <td>Dinner</td>\n",
       "      <td>2</td>\n",
       "    </tr>\n",
       "    <tr>\n",
       "      <th>243</th>\n",
       "      <td>18.78</td>\n",
       "      <td>3.00</td>\n",
       "      <td>Female</td>\n",
       "      <td>No</td>\n",
       "      <td>Thur</td>\n",
       "      <td>Dinner</td>\n",
       "      <td>2</td>\n",
       "    </tr>\n",
       "  </tbody>\n",
       "</table>\n",
       "</div>"
      ],
      "text/plain": [
       "     total_bill   tip     sex smoker   day    time  size\n",
       "239       29.03  5.92    Male     No   Sat  Dinner     3\n",
       "240       27.18  2.00  Female    Yes   Sat  Dinner     2\n",
       "241       22.67  2.00    Male    Yes   Sat  Dinner     2\n",
       "242       17.82  1.75    Male     No   Sat  Dinner     2\n",
       "243       18.78  3.00  Female     No  Thur  Dinner     2"
      ]
     },
     "execution_count": 4,
     "metadata": {},
     "output_type": "execute_result"
    }
   ],
   "source": [
    "tips.tail()"
   ]
  },
  {
   "cell_type": "code",
   "execution_count": 5,
   "metadata": {},
   "outputs": [
    {
     "data": {
      "text/plain": [
       "(244, 7)"
      ]
     },
     "execution_count": 5,
     "metadata": {},
     "output_type": "execute_result"
    }
   ],
   "source": [
    "tips.shape"
   ]
  },
  {
   "cell_type": "code",
   "execution_count": 7,
   "metadata": {},
   "outputs": [
    {
     "data": {
      "text/plain": [
       "((220, 7), (24, 6))"
      ]
     },
     "execution_count": 7,
     "metadata": {},
     "output_type": "execute_result"
    }
   ],
   "source": [
    "tips_have = tips.iloc[0:220, : ] # 현재 가진 고객 데이터\n",
    "tips_new = tips.iloc[220: , : ] # 미래의 고객 데이터\n",
    "\n",
    "tips_new.drop(['size'], axis=1, inplace = True)\n",
    "\n",
    "tips_have.shape, tips_new.shape"
   ]
  },
  {
   "cell_type": "code",
   "execution_count": 51,
   "metadata": {},
   "outputs": [],
   "source": [
    "sel = ['total_bill', 'tip']\n",
    "\n",
    "X = tips_have[sel]\n",
    "y = tips_have['size']   # 우리가 예측할 컬럼\n",
    "\n",
    "test_X = tips_new[sel]  # 최종 에측용"
   ]
  },
  {
   "cell_type": "code",
   "execution_count": 48,
   "metadata": {},
   "outputs": [],
   "source": [
    "from sklearn.ensemble import RandomForestClassifier\n",
    "from sklearn.model_selection import train_test_split\n",
    "# 예측하려는 타깃이 수치형일때는 RandomForestRegressor를 활용\n",
    "# 예측하려는 타깃이 범주형일때는 RandomForestClassifier를 활용"
   ]
  },
  {
   "cell_type": "code",
   "execution_count": 49,
   "metadata": {},
   "outputs": [
    {
     "data": {
      "text/plain": [
       "1.0"
      ]
     },
     "execution_count": 49,
     "metadata": {},
     "output_type": "execute_result"
    }
   ],
   "source": [
    "model = RandomForestClassifier()\n",
    "model.fit(X, y)\n",
    "model.score(X, y)"
   ]
  },
  {
   "cell_type": "code",
   "execution_count": 46,
   "metadata": {},
   "outputs": [],
   "source": [
    "X_train, X_test, y_train, y_test = train_test_split(X, y,\n",
    "                                                   random_state=0) #계속적으로 뽑을때마다 동일한 기준"
   ]
  },
  {
   "cell_type": "code",
   "execution_count": 33,
   "metadata": {},
   "outputs": [
    {
     "name": "stdout",
     "output_type": "stream",
     "text": [
      "0.7151515151515152\n",
      "0.6\n"
     ]
    }
   ],
   "source": [
    "model = RandomForestClassifier(max_depth=1)\n",
    "model.fit(X_train, y_train)\n",
    "\n",
    "print(model.score(X_train, y_train))\n",
    "print(model.score(X_test, y_test))  # 과대적합 - overfitting"
   ]
  },
  {
   "cell_type": "code",
   "execution_count": 34,
   "metadata": {},
   "outputs": [],
   "source": [
    "# knn 모델\n",
    "# 의사결정트리 모델\n",
    "from sklearn.neighbors import KNeighborsClassifier\n",
    "from sklearn.tree import DecisionTreeClassifier\n",
    "from sklearn.svm import SVC\n",
    "from sklearn.ensemble import RandomForestClassifier"
   ]
  },
  {
   "cell_type": "code",
   "execution_count": 35,
   "metadata": {},
   "outputs": [
    {
     "name": "stdout",
     "output_type": "stream",
     "text": [
      "0.8787878787878788\n",
      "0.5818181818181818\n"
     ]
    }
   ],
   "source": [
    "#앙상블\n",
    "model = RandomForestClassifier(max_depth=6, random_state=0)\n",
    "model.fit(X_train, y_train)\n",
    "\n",
    "print(model.score(X_train, y_train))\n",
    "print(model.score(X_test, y_test))"
   ]
  },
  {
   "cell_type": "code",
   "execution_count": 36,
   "metadata": {},
   "outputs": [
    {
     "name": "stdout",
     "output_type": "stream",
     "text": [
      "0.7696969696969697\n",
      "0.5454545454545454\n"
     ]
    }
   ],
   "source": [
    "#knn모델\n",
    "model = KNeighborsClassifier(n_neighbors=4)\n",
    "model.fit(X_train, y_train)\n",
    "\n",
    "print(model.score(X_train, y_train))\n",
    "print(model.score(X_test, y_test))"
   ]
  },
  {
   "cell_type": "code",
   "execution_count": 37,
   "metadata": {},
   "outputs": [
    {
     "name": "stdout",
     "output_type": "stream",
     "text": [
      "1.0\n",
      "0.4909090909090909\n"
     ]
    }
   ],
   "source": [
    "#의사결정트리\n",
    "model = DecisionTreeClassifier()\n",
    "model.fit(X_train, y_train)\n",
    "\n",
    "print(model.score(X_train, y_train))\n",
    "print(model.score(X_test, y_test))"
   ]
  },
  {
   "cell_type": "code",
   "execution_count": 38,
   "metadata": {},
   "outputs": [
    {
     "name": "stdout",
     "output_type": "stream",
     "text": [
      "0.7090909090909091\n",
      "0.6\n"
     ]
    }
   ],
   "source": [
    "#SVC\n",
    "model = SVC()\n",
    "model.fit(X_train, y_train)\n",
    "\n",
    "print(model.score(X_train, y_train))\n",
    "print(model.score(X_test, y_test))"
   ]
  },
  {
   "cell_type": "code",
   "execution_count": 39,
   "metadata": {},
   "outputs": [
    {
     "data": {
      "text/plain": [
       "Male      157\n",
       "Female     87\n",
       "Name: sex, dtype: int64"
      ]
     },
     "execution_count": 39,
     "metadata": {},
     "output_type": "execute_result"
    }
   ],
   "source": [
    "tips['sex'].value_counts()"
   ]
  },
  {
   "cell_type": "code",
   "execution_count": 41,
   "metadata": {},
   "outputs": [],
   "source": [
    "dict_sex = {\"Male\":0, \"Female\":1}\n",
    "tips['sex_en']=tips['sex'].map(dict_sex).astype(\"int32\")\n",
    "\n",
    "dict_smoker = {\"No\":0, \"Yes\":1}\n",
    "tips['smoker_en']=tips['smoker'].map(dict_smoker).astype(\"int32\")"
   ]
  },
  {
   "cell_type": "code",
   "execution_count": 42,
   "metadata": {
    "scrolled": true
   },
   "outputs": [
    {
     "data": {
      "text/html": [
       "<div>\n",
       "<style scoped>\n",
       "    .dataframe tbody tr th:only-of-type {\n",
       "        vertical-align: middle;\n",
       "    }\n",
       "\n",
       "    .dataframe tbody tr th {\n",
       "        vertical-align: top;\n",
       "    }\n",
       "\n",
       "    .dataframe thead th {\n",
       "        text-align: right;\n",
       "    }\n",
       "</style>\n",
       "<table border=\"1\" class=\"dataframe\">\n",
       "  <thead>\n",
       "    <tr style=\"text-align: right;\">\n",
       "      <th></th>\n",
       "      <th>total_bill</th>\n",
       "      <th>tip</th>\n",
       "      <th>sex</th>\n",
       "      <th>smoker</th>\n",
       "      <th>day</th>\n",
       "      <th>time</th>\n",
       "      <th>size</th>\n",
       "      <th>sex_en</th>\n",
       "      <th>smoker_en</th>\n",
       "    </tr>\n",
       "  </thead>\n",
       "  <tbody>\n",
       "    <tr>\n",
       "      <th>0</th>\n",
       "      <td>16.99</td>\n",
       "      <td>1.01</td>\n",
       "      <td>Female</td>\n",
       "      <td>No</td>\n",
       "      <td>Sun</td>\n",
       "      <td>Dinner</td>\n",
       "      <td>2</td>\n",
       "      <td>1</td>\n",
       "      <td>0</td>\n",
       "    </tr>\n",
       "    <tr>\n",
       "      <th>1</th>\n",
       "      <td>10.34</td>\n",
       "      <td>1.66</td>\n",
       "      <td>Male</td>\n",
       "      <td>No</td>\n",
       "      <td>Sun</td>\n",
       "      <td>Dinner</td>\n",
       "      <td>3</td>\n",
       "      <td>0</td>\n",
       "      <td>0</td>\n",
       "    </tr>\n",
       "    <tr>\n",
       "      <th>2</th>\n",
       "      <td>21.01</td>\n",
       "      <td>3.50</td>\n",
       "      <td>Male</td>\n",
       "      <td>No</td>\n",
       "      <td>Sun</td>\n",
       "      <td>Dinner</td>\n",
       "      <td>3</td>\n",
       "      <td>0</td>\n",
       "      <td>0</td>\n",
       "    </tr>\n",
       "    <tr>\n",
       "      <th>3</th>\n",
       "      <td>23.68</td>\n",
       "      <td>3.31</td>\n",
       "      <td>Male</td>\n",
       "      <td>No</td>\n",
       "      <td>Sun</td>\n",
       "      <td>Dinner</td>\n",
       "      <td>2</td>\n",
       "      <td>0</td>\n",
       "      <td>0</td>\n",
       "    </tr>\n",
       "    <tr>\n",
       "      <th>4</th>\n",
       "      <td>24.59</td>\n",
       "      <td>3.61</td>\n",
       "      <td>Female</td>\n",
       "      <td>No</td>\n",
       "      <td>Sun</td>\n",
       "      <td>Dinner</td>\n",
       "      <td>4</td>\n",
       "      <td>1</td>\n",
       "      <td>0</td>\n",
       "    </tr>\n",
       "    <tr>\n",
       "      <th>...</th>\n",
       "      <td>...</td>\n",
       "      <td>...</td>\n",
       "      <td>...</td>\n",
       "      <td>...</td>\n",
       "      <td>...</td>\n",
       "      <td>...</td>\n",
       "      <td>...</td>\n",
       "      <td>...</td>\n",
       "      <td>...</td>\n",
       "    </tr>\n",
       "    <tr>\n",
       "      <th>239</th>\n",
       "      <td>29.03</td>\n",
       "      <td>5.92</td>\n",
       "      <td>Male</td>\n",
       "      <td>No</td>\n",
       "      <td>Sat</td>\n",
       "      <td>Dinner</td>\n",
       "      <td>3</td>\n",
       "      <td>0</td>\n",
       "      <td>0</td>\n",
       "    </tr>\n",
       "    <tr>\n",
       "      <th>240</th>\n",
       "      <td>27.18</td>\n",
       "      <td>2.00</td>\n",
       "      <td>Female</td>\n",
       "      <td>Yes</td>\n",
       "      <td>Sat</td>\n",
       "      <td>Dinner</td>\n",
       "      <td>2</td>\n",
       "      <td>1</td>\n",
       "      <td>1</td>\n",
       "    </tr>\n",
       "    <tr>\n",
       "      <th>241</th>\n",
       "      <td>22.67</td>\n",
       "      <td>2.00</td>\n",
       "      <td>Male</td>\n",
       "      <td>Yes</td>\n",
       "      <td>Sat</td>\n",
       "      <td>Dinner</td>\n",
       "      <td>2</td>\n",
       "      <td>0</td>\n",
       "      <td>1</td>\n",
       "    </tr>\n",
       "    <tr>\n",
       "      <th>242</th>\n",
       "      <td>17.82</td>\n",
       "      <td>1.75</td>\n",
       "      <td>Male</td>\n",
       "      <td>No</td>\n",
       "      <td>Sat</td>\n",
       "      <td>Dinner</td>\n",
       "      <td>2</td>\n",
       "      <td>0</td>\n",
       "      <td>0</td>\n",
       "    </tr>\n",
       "    <tr>\n",
       "      <th>243</th>\n",
       "      <td>18.78</td>\n",
       "      <td>3.00</td>\n",
       "      <td>Female</td>\n",
       "      <td>No</td>\n",
       "      <td>Thur</td>\n",
       "      <td>Dinner</td>\n",
       "      <td>2</td>\n",
       "      <td>1</td>\n",
       "      <td>0</td>\n",
       "    </tr>\n",
       "  </tbody>\n",
       "</table>\n",
       "<p>244 rows × 9 columns</p>\n",
       "</div>"
      ],
      "text/plain": [
       "     total_bill   tip     sex smoker   day    time  size  sex_en  smoker_en\n",
       "0         16.99  1.01  Female     No   Sun  Dinner     2       1          0\n",
       "1         10.34  1.66    Male     No   Sun  Dinner     3       0          0\n",
       "2         21.01  3.50    Male     No   Sun  Dinner     3       0          0\n",
       "3         23.68  3.31    Male     No   Sun  Dinner     2       0          0\n",
       "4         24.59  3.61  Female     No   Sun  Dinner     4       1          0\n",
       "..          ...   ...     ...    ...   ...     ...   ...     ...        ...\n",
       "239       29.03  5.92    Male     No   Sat  Dinner     3       0          0\n",
       "240       27.18  2.00  Female    Yes   Sat  Dinner     2       1          1\n",
       "241       22.67  2.00    Male    Yes   Sat  Dinner     2       0          1\n",
       "242       17.82  1.75    Male     No   Sat  Dinner     2       0          0\n",
       "243       18.78  3.00  Female     No  Thur  Dinner     2       1          0\n",
       "\n",
       "[244 rows x 9 columns]"
      ]
     },
     "execution_count": 42,
     "metadata": {},
     "output_type": "execute_result"
    }
   ],
   "source": [
    "tips"
   ]
  },
  {
   "cell_type": "code",
   "execution_count": 58,
   "metadata": {},
   "outputs": [
    {
     "name": "stderr",
     "output_type": "stream",
     "text": [
      "C:\\Users\\Joy\\anaconda3\\lib\\site-packages\\pandas\\core\\frame.py:4163: SettingWithCopyWarning: \n",
      "A value is trying to be set on a copy of a slice from a DataFrame\n",
      "\n",
      "See the caveats in the documentation: https://pandas.pydata.org/pandas-docs/stable/user_guide/indexing.html#returning-a-view-versus-a-copy\n",
      "  return super().drop(\n"
     ]
    },
    {
     "data": {
      "text/plain": [
       "((220, 9), (24, 8))"
      ]
     },
     "execution_count": 58,
     "metadata": {},
     "output_type": "execute_result"
    }
   ],
   "source": [
    "tips_have = tips.iloc[0:220, : ] # 현재 가진 고객 데이터\n",
    "tips_new = tips.iloc[220: , : ] # 미래의 고객 데이터\n",
    "\n",
    "tips_new.drop(['size'], axis=1, inplace = True)\n",
    "\n",
    "tips_have.shape, tips_new.shape"
   ]
  },
  {
   "cell_type": "code",
   "execution_count": 60,
   "metadata": {},
   "outputs": [],
   "source": [
    "sel = ['total_bill', 'tip','sex_en','smoker_en']\n",
    "\n",
    "X = tips_have[sel]\n",
    "y = tips_have['size']   # 우리가 예측할 컬럼\n",
    "\n",
    "test_X = tips_new[sel]  # 최종 에측용\n",
    "X_train, X_test, y_train, y_test = train_test_split(X, y,\n",
    "                                                   random_state=0) #계속적으로 뽑을때마다 동일한 기준"
   ]
  },
  {
   "cell_type": "code",
   "execution_count": 53,
   "metadata": {},
   "outputs": [],
   "source": [
    "# get_dummmies는 (pandas)\n",
    "# dict & map으로 하는 것은 같은 결과 - 라벨인코딩"
   ]
  },
  {
   "cell_type": "code",
   "execution_count": 61,
   "metadata": {},
   "outputs": [
    {
     "data": {
      "text/plain": [
       "1.0"
      ]
     },
     "execution_count": 61,
     "metadata": {},
     "output_type": "execute_result"
    }
   ],
   "source": [
    "model = RandomForestClassifier()\n",
    "model.fit(X, y)\n",
    "model.score(X, y)"
   ]
  },
  {
   "cell_type": "code",
   "execution_count": 63,
   "metadata": {},
   "outputs": [
    {
     "name": "stdout",
     "output_type": "stream",
     "text": [
      "0.7878787878787878\n",
      "0.6\n"
     ]
    }
   ],
   "source": [
    "#앙상블\n",
    "model = RandomForestClassifier(max_depth=3, random_state=0)\n",
    "model.fit(X_train, y_train)\n",
    "\n",
    "print(model.score(X_train, y_train))\n",
    "print(model.score(X_test, y_test))"
   ]
  },
  {
   "cell_type": "code",
   "execution_count": 64,
   "metadata": {},
   "outputs": [],
   "source": [
    "# 중복을 허용해 랜덤하게 뽑아 하나의 데이터셋을 만들어 전체적으로 조금씩 다른 데이터 모델을 만듦 - 랜덤포레스트\n",
    "# 다른 변수(피처)를 무작위로 선택해 다른 모델을 만듦 - 랜덤포레스트 / ex) 10개의 변수라면 10에 루트를 씌운 3개 정도 변수를 사용함\n",
    "# 각각 서로의 모델에 독립적이다, 영향을 주지 않음\n",
    "# xgboost나 lightgbm 등은 모델이 의존성이 있음\n",
    "\n",
    "# max_features : 전체 feature 중에 몇 개의 feature를 선택할지 -> 분류 : sqre(n_features), 회귀 : n_features"
   ]
  },
  {
   "cell_type": "code",
   "execution_count": 65,
   "metadata": {},
   "outputs": [],
   "source": [
    "# 지니 계수가 낮아지는 방향으로 피처를 선택"
   ]
  },
  {
   "cell_type": "code",
   "execution_count": 66,
   "metadata": {},
   "outputs": [],
   "source": [
    "import platform\n",
    "import matplotlib\n",
    "from matplotlib import font_manager, rc\n",
    "import matplotlib"
   ]
  },
  {
   "cell_type": "code",
   "execution_count": 67,
   "metadata": {},
   "outputs": [],
   "source": [
    "# 한글 및 마이너스 표시 설정\n",
    "path = \"C:/Windows/Fonts/malgun.ttf\"\n",
    "if platform.system() == \"Windows\":\n",
    "    font_name = font_manager.FontProperties(fname=path).get_name()\n",
    "    matplotlib.rc('font', family=font_name)\n",
    "elif platform.system()==\"Darwin\":\n",
    "    rc('font', family='AppleGothic')\n",
    "else:\n",
    "    print(\"Unknown System\")\n",
    "\n",
    "matplotlib.rcParams['axes.unicode_minus'] = False\n",
    "%matplotlib inline"
   ]
  },
  {
   "cell_type": "code",
   "execution_count": 68,
   "metadata": {},
   "outputs": [],
   "source": [
    "from sklearn.ensemble import RandomForestClassifier\n",
    "from sklearn.model_selection import train_test_split\n",
    "import matplotlib.pyplot as plt\n",
    "import numpy as np\n",
    "import pandas as pd"
   ]
  },
  {
   "cell_type": "code",
   "execution_count": 69,
   "metadata": {},
   "outputs": [],
   "source": [
    "from sklearn.datasets import load_breast_cancer\n",
    "import mglearn\n",
    "cancer = load_breast_cancer()\n",
    "\n",
    "X = cancer.data\n",
    "y = cancer.target\n",
    "\n",
    "X_train, X_test, y_train, y_test = train_test_split(X, y,\n",
    "                                        stratify=cancer.target, \n",
    "                                        random_state=0)"
   ]
  },
  {
   "cell_type": "code",
   "execution_count": 70,
   "metadata": {},
   "outputs": [
    {
     "name": "stdout",
     "output_type": "stream",
     "text": [
      "0.9577464788732394\n",
      "0.9090909090909091\n"
     ]
    }
   ],
   "source": [
    "#knn모델\n",
    "model = KNeighborsClassifier(n_neighbors=4)\n",
    "model.fit(X_train, y_train)\n",
    "\n",
    "print(model.score(X_train, y_train))\n",
    "print(model.score(X_test, y_test))"
   ]
  },
  {
   "cell_type": "code",
   "execution_count": 71,
   "metadata": {},
   "outputs": [
    {
     "name": "stdout",
     "output_type": "stream",
     "text": [
      "1.0\n",
      "0.9230769230769231\n"
     ]
    }
   ],
   "source": [
    "#의사결정트리\n",
    "model = DecisionTreeClassifier()\n",
    "model.fit(X_train, y_train)\n",
    "\n",
    "print(model.score(X_train, y_train))\n",
    "print(model.score(X_test, y_test))"
   ]
  },
  {
   "cell_type": "code",
   "execution_count": 72,
   "metadata": {},
   "outputs": [
    {
     "name": "stdout",
     "output_type": "stream",
     "text": [
      "0.9882629107981221\n",
      "0.9440559440559441\n"
     ]
    }
   ],
   "source": [
    "#앙상블\n",
    "model = RandomForestClassifier(max_depth=3, random_state=0)\n",
    "model.fit(X_train, y_train)\n",
    "\n",
    "print(model.score(X_train, y_train))\n",
    "print(model.score(X_test, y_test))"
   ]
  },
  {
   "cell_type": "code",
   "execution_count": 73,
   "metadata": {},
   "outputs": [
    {
     "name": "stdout",
     "output_type": "stream",
     "text": [
      "학습용 세트 정확도 : 0.934\n",
      "테스트 세트 정확도 : 0.902\n",
      "\n",
      "학습용 세트 정확도 : 0.934\n",
      "테스트 세트 정확도 : 0.930\n",
      "\n",
      "학습용 세트 정확도 : 0.939\n",
      "테스트 세트 정확도 : 0.930\n",
      "\n",
      "학습용 세트 정확도 : 0.948\n",
      "테스트 세트 정확도 : 0.916\n",
      "\n",
      "학습용 세트 정확도 : 0.941\n",
      "테스트 세트 정확도 : 0.916\n",
      "\n",
      "학습용 세트 정확도 : 0.948\n",
      "테스트 세트 정확도 : 0.895\n",
      "\n",
      "학습용 세트 정확도 : 0.953\n",
      "테스트 세트 정확도 : 0.923\n",
      "\n",
      "학습용 세트 정확도 : 0.948\n",
      "테스트 세트 정확도 : 0.909\n",
      "\n",
      "학습용 세트 정확도 : 0.974\n",
      "테스트 세트 정확도 : 0.951\n",
      "\n",
      "학습용 세트 정확도 : 0.937\n",
      "테스트 세트 정확도 : 0.874\n",
      "\n",
      "학습용 세트 정확도 : 0.958\n",
      "테스트 세트 정확도 : 0.923\n",
      "\n",
      "학습용 세트 정확도 : 0.953\n",
      "테스트 세트 정확도 : 0.916\n",
      "\n",
      "학습용 세트 정확도 : 0.925\n",
      "테스트 세트 정확도 : 0.909\n",
      "\n",
      "학습용 세트 정확도 : 0.958\n",
      "테스트 세트 정확도 : 0.937\n",
      "\n",
      "학습용 세트 정확도 : 0.965\n",
      "테스트 세트 정확도 : 0.916\n",
      "\n",
      "학습용 세트 정확도 : 0.967\n",
      "테스트 세트 정확도 : 0.930\n",
      "\n",
      "학습용 세트 정확도 : 0.958\n",
      "테스트 세트 정확도 : 0.895\n",
      "\n",
      "학습용 세트 정확도 : 0.930\n",
      "테스트 세트 정확도 : 0.902\n",
      "\n",
      "학습용 세트 정확도 : 0.946\n",
      "테스트 세트 정확도 : 0.923\n",
      "\n",
      "학습용 세트 정확도 : 0.958\n",
      "테스트 세트 정확도 : 0.895\n",
      "\n",
      "학습용 세트 정확도 : 0.958\n",
      "테스트 세트 정확도 : 0.923\n",
      "\n",
      "학습용 세트 정확도 : 0.955\n",
      "테스트 세트 정확도 : 0.895\n",
      "\n",
      "학습용 세트 정확도 : 0.962\n",
      "테스트 세트 정확도 : 0.902\n",
      "\n",
      "학습용 세트 정확도 : 0.948\n",
      "테스트 세트 정확도 : 0.909\n",
      "\n",
      "학습용 세트 정확도 : 0.965\n",
      "테스트 세트 정확도 : 0.902\n",
      "\n",
      "학습용 세트 정확도 : 0.967\n",
      "테스트 세트 정확도 : 0.909\n",
      "\n",
      "학습용 세트 정확도 : 0.962\n",
      "테스트 세트 정확도 : 0.937\n",
      "\n",
      "학습용 세트 정확도 : 0.951\n",
      "테스트 세트 정확도 : 0.888\n",
      "\n",
      "학습용 세트 정확도 : 0.960\n",
      "테스트 세트 정확도 : 0.923\n",
      "\n",
      "학습용 세트 정확도 : 0.960\n",
      "테스트 세트 정확도 : 0.923\n",
      "\n",
      "학습용 세트 정확도 : 0.923\n",
      "테스트 세트 정확도 : 0.930\n",
      "\n",
      "학습용 세트 정확도 : 0.953\n",
      "테스트 세트 정확도 : 0.937\n",
      "\n",
      "학습용 세트 정확도 : 0.951\n",
      "테스트 세트 정확도 : 0.902\n",
      "\n",
      "학습용 세트 정확도 : 0.958\n",
      "테스트 세트 정확도 : 0.923\n",
      "\n",
      "학습용 세트 정확도 : 0.955\n",
      "테스트 세트 정확도 : 0.895\n",
      "\n",
      "학습용 세트 정확도 : 0.953\n",
      "테스트 세트 정확도 : 0.860\n",
      "\n",
      "학습용 세트 정확도 : 0.969\n",
      "테스트 세트 정확도 : 0.916\n",
      "\n",
      "학습용 세트 정확도 : 0.955\n",
      "테스트 세트 정확도 : 0.916\n",
      "\n",
      "학습용 세트 정확도 : 0.965\n",
      "테스트 세트 정확도 : 0.902\n",
      "\n",
      "학습용 세트 정확도 : 0.951\n",
      "테스트 세트 정확도 : 0.916\n",
      "\n",
      "학습용 세트 정확도 : 0.941\n",
      "테스트 세트 정확도 : 0.888\n",
      "\n",
      "학습용 세트 정확도 : 0.958\n",
      "테스트 세트 정확도 : 0.923\n",
      "\n",
      "학습용 세트 정확도 : 0.958\n",
      "테스트 세트 정확도 : 0.895\n",
      "\n",
      "학습용 세트 정확도 : 0.946\n",
      "테스트 세트 정확도 : 0.902\n",
      "\n",
      "학습용 세트 정확도 : 0.969\n",
      "테스트 세트 정확도 : 0.895\n",
      "\n",
      "학습용 세트 정확도 : 0.930\n",
      "테스트 세트 정확도 : 0.853\n",
      "\n",
      "학습용 세트 정확도 : 0.946\n",
      "테스트 세트 정확도 : 0.895\n",
      "\n",
      "학습용 세트 정확도 : 0.958\n",
      "테스트 세트 정확도 : 0.895\n",
      "\n",
      "학습용 세트 정확도 : 0.951\n",
      "테스트 세트 정확도 : 0.923\n",
      "\n",
      "학습용 세트 정확도 : 0.951\n",
      "테스트 세트 정확도 : 0.888\n",
      "\n",
      "학습용 세트 정확도 : 0.955\n",
      "테스트 세트 정확도 : 0.923\n",
      "\n",
      "학습용 세트 정확도 : 0.944\n",
      "테스트 세트 정확도 : 0.923\n",
      "\n",
      "학습용 세트 정확도 : 0.958\n",
      "테스트 세트 정확도 : 0.923\n",
      "\n",
      "학습용 세트 정확도 : 0.946\n",
      "테스트 세트 정확도 : 0.874\n",
      "\n",
      "학습용 세트 정확도 : 0.951\n",
      "테스트 세트 정확도 : 0.909\n",
      "\n",
      "학습용 세트 정확도 : 0.953\n",
      "테스트 세트 정확도 : 0.895\n",
      "\n",
      "학습용 세트 정확도 : 0.958\n",
      "테스트 세트 정확도 : 0.916\n",
      "\n",
      "학습용 세트 정확도 : 0.967\n",
      "테스트 세트 정확도 : 0.916\n",
      "\n",
      "학습용 세트 정확도 : 0.965\n",
      "테스트 세트 정확도 : 0.881\n",
      "\n",
      "학습용 세트 정확도 : 0.955\n",
      "테스트 세트 정확도 : 0.895\n",
      "\n",
      "학습용 세트 정확도 : 0.953\n",
      "테스트 세트 정확도 : 0.937\n",
      "\n",
      "학습용 세트 정확도 : 0.960\n",
      "테스트 세트 정확도 : 0.902\n",
      "\n",
      "학습용 세트 정확도 : 0.939\n",
      "테스트 세트 정확도 : 0.895\n",
      "\n",
      "학습용 세트 정확도 : 0.962\n",
      "테스트 세트 정확도 : 0.881\n",
      "\n",
      "학습용 세트 정확도 : 0.948\n",
      "테스트 세트 정확도 : 0.930\n",
      "\n",
      "학습용 세트 정확도 : 0.941\n",
      "테스트 세트 정확도 : 0.895\n",
      "\n",
      "학습용 세트 정확도 : 0.955\n",
      "테스트 세트 정확도 : 0.895\n",
      "\n",
      "학습용 세트 정확도 : 0.948\n",
      "테스트 세트 정확도 : 0.874\n",
      "\n",
      "학습용 세트 정확도 : 0.925\n",
      "테스트 세트 정확도 : 0.902\n",
      "\n",
      "학습용 세트 정확도 : 0.965\n",
      "테스트 세트 정확도 : 0.909\n",
      "\n",
      "학습용 세트 정확도 : 0.958\n",
      "테스트 세트 정확도 : 0.909\n",
      "\n",
      "학습용 세트 정확도 : 0.934\n",
      "테스트 세트 정확도 : 0.916\n",
      "\n",
      "학습용 세트 정확도 : 0.958\n",
      "테스트 세트 정확도 : 0.902\n",
      "\n",
      "학습용 세트 정확도 : 0.958\n",
      "테스트 세트 정확도 : 0.895\n",
      "\n",
      "학습용 세트 정확도 : 0.939\n",
      "테스트 세트 정확도 : 0.902\n",
      "\n",
      "학습용 세트 정확도 : 0.944\n",
      "테스트 세트 정확도 : 0.909\n",
      "\n",
      "학습용 세트 정확도 : 0.939\n",
      "테스트 세트 정확도 : 0.923\n",
      "\n",
      "학습용 세트 정확도 : 0.948\n",
      "테스트 세트 정확도 : 0.895\n",
      "\n",
      "학습용 세트 정확도 : 0.948\n",
      "테스트 세트 정확도 : 0.944\n",
      "\n",
      "학습용 세트 정확도 : 0.953\n",
      "테스트 세트 정확도 : 0.895\n",
      "\n",
      "학습용 세트 정확도 : 0.962\n",
      "테스트 세트 정확도 : 0.916\n",
      "\n",
      "학습용 세트 정확도 : 0.930\n",
      "테스트 세트 정확도 : 0.881\n",
      "\n",
      "학습용 세트 정확도 : 0.962\n",
      "테스트 세트 정확도 : 0.916\n",
      "\n",
      "학습용 세트 정확도 : 0.939\n",
      "테스트 세트 정확도 : 0.909\n",
      "\n",
      "학습용 세트 정확도 : 0.951\n",
      "테스트 세트 정확도 : 0.874\n",
      "\n",
      "학습용 세트 정확도 : 0.951\n",
      "테스트 세트 정확도 : 0.909\n",
      "\n",
      "학습용 세트 정확도 : 0.948\n",
      "테스트 세트 정확도 : 0.902\n",
      "\n",
      "학습용 세트 정확도 : 0.953\n",
      "테스트 세트 정확도 : 0.909\n",
      "\n",
      "학습용 세트 정확도 : 0.918\n",
      "테스트 세트 정확도 : 0.881\n",
      "\n",
      "학습용 세트 정확도 : 0.955\n",
      "테스트 세트 정확도 : 0.895\n",
      "\n",
      "학습용 세트 정확도 : 0.960\n",
      "테스트 세트 정확도 : 0.916\n",
      "\n",
      "학습용 세트 정확도 : 0.937\n",
      "테스트 세트 정확도 : 0.888\n",
      "\n",
      "학습용 세트 정확도 : 0.960\n",
      "테스트 세트 정확도 : 0.895\n",
      "\n",
      "학습용 세트 정확도 : 0.958\n",
      "테스트 세트 정확도 : 0.902\n",
      "\n",
      "학습용 세트 정확도 : 0.939\n",
      "테스트 세트 정확도 : 0.888\n",
      "\n",
      "학습용 세트 정확도 : 0.941\n",
      "테스트 세트 정확도 : 0.909\n",
      "\n",
      "학습용 세트 정확도 : 0.953\n",
      "테스트 세트 정확도 : 0.881\n",
      "\n",
      "학습용 세트 정확도 : 0.953\n",
      "테스트 세트 정확도 : 0.930\n",
      "\n",
      "학습용 세트 정확도 : 0.958\n",
      "테스트 세트 정확도 : 0.916\n",
      "\n",
      "학습용 세트 정확도 : 0.955\n",
      "테스트 세트 정확도 : 0.902\n",
      "\n"
     ]
    }
   ],
   "source": [
    "# 5개의 모델에 대한 정확도 평가\n",
    "for one_model in model.estimators_:\n",
    "    print(\"학습용 세트 정확도 : {:.3f}\".format(one_model.score(X_train, y_train)))\n",
    "    print(\"테스트 세트 정확도 : {:.3f}\".format(one_model.score(X_test, y_test)))\n",
    "    print()"
   ]
  },
  {
   "cell_type": "code",
   "execution_count": null,
   "metadata": {},
   "outputs": [],
   "source": []
  }
 ],
 "metadata": {
  "kernelspec": {
   "display_name": "Python 3",
   "language": "python",
   "name": "python3"
  },
  "language_info": {
   "codemirror_mode": {
    "name": "ipython",
    "version": 3
   },
   "file_extension": ".py",
   "mimetype": "text/x-python",
   "name": "python",
   "nbconvert_exporter": "python",
   "pygments_lexer": "ipython3",
   "version": "3.8.5"
  }
 },
 "nbformat": 4,
 "nbformat_minor": 4
}
